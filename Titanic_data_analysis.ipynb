{
 "cells": [
  {
   "cell_type": "heading",
   "metadata": {
    "collapsed": true
   },
   "level": 4,
   "source": [
    "DATA ANALYSIS WITH TITANIC DATA"
   ]
  },
  {
   "cell_type": "heading",
   "metadata": {},
   "level": 5,
   "source": [
    "Email : amit.somani641@gmail.com"
   ]
  },
  {
   "cell_type": "markdown",
   "metadata": {},
   "source": [
    "This is my first ever Data Analysis project. Suggestions are welcome. The dataset has been taken from www.kaggle.com ."
   ]
  },
  {
   "cell_type": "heading",
   "metadata": {},
   "level": 1,
   "source": [
    "Knowing the Data"
   ]
  },
  {
   "cell_type": "heading",
   "metadata": {},
   "level": 1,
   "source": [
    ""
   ]
  },
  {
   "cell_type": "code",
   "execution_count": 3,
   "metadata": {},
   "outputs": [
    {
     "name": "stdout",
     "output_type": "stream",
     "text": [
      "Populating the interactive namespace from numpy and matplotlib\n"
     ]
    },
    {
     "name": "stderr",
     "output_type": "stream",
     "text": [
      "WARNING: pylab import has clobbered these variables: ['linalg', 'random', 'power', 'fft', 'info']\n`%matplotlib` prevents importing * from pylab and numpy\n"
     ]
    },
    {
     "data": {
      "text/html": [
       "<div>\n",
       "<table border=\"1\" class=\"dataframe\">\n",
       "  <thead>\n",
       "    <tr style=\"text-align: right;\">\n",
       "      <th></th>\n",
       "      <th>PassengerId</th>\n",
       "      <th>Survived</th>\n",
       "      <th>Pclass</th>\n",
       "      <th>Name</th>\n",
       "      <th>Sex</th>\n",
       "      <th>Age</th>\n",
       "      <th>SibSp</th>\n",
       "      <th>Parch</th>\n",
       "      <th>Ticket</th>\n",
       "      <th>Fare</th>\n",
       "      <th>Cabin</th>\n",
       "      <th>Embarked</th>\n",
       "    </tr>\n",
       "  </thead>\n",
       "  <tbody>\n",
       "    <tr>\n",
       "      <th>0</th>\n",
       "      <td>1</td>\n",
       "      <td>0</td>\n",
       "      <td>3</td>\n",
       "      <td>Braund, Mr. Owen Harris</td>\n",
       "      <td>male</td>\n",
       "      <td>22.0</td>\n",
       "      <td>1</td>\n",
       "      <td>0</td>\n",
       "      <td>A/5 21171</td>\n",
       "      <td>7.2500</td>\n",
       "      <td>NaN</td>\n",
       "      <td>S</td>\n",
       "    </tr>\n",
       "    <tr>\n",
       "      <th>1</th>\n",
       "      <td>2</td>\n",
       "      <td>1</td>\n",
       "      <td>1</td>\n",
       "      <td>Cumings, Mrs. John Bradley (Florence Briggs Th...</td>\n",
       "      <td>female</td>\n",
       "      <td>38.0</td>\n",
       "      <td>1</td>\n",
       "      <td>0</td>\n",
       "      <td>PC 17599</td>\n",
       "      <td>71.2833</td>\n",
       "      <td>C85</td>\n",
       "      <td>C</td>\n",
       "    </tr>\n",
       "    <tr>\n",
       "      <th>2</th>\n",
       "      <td>3</td>\n",
       "      <td>1</td>\n",
       "      <td>3</td>\n",
       "      <td>Heikkinen, Miss. Laina</td>\n",
       "      <td>female</td>\n",
       "      <td>26.0</td>\n",
       "      <td>0</td>\n",
       "      <td>0</td>\n",
       "      <td>STON/O2. 3101282</td>\n",
       "      <td>7.9250</td>\n",
       "      <td>NaN</td>\n",
       "      <td>S</td>\n",
       "    </tr>\n",
       "    <tr>\n",
       "      <th>3</th>\n",
       "      <td>4</td>\n",
       "      <td>1</td>\n",
       "      <td>1</td>\n",
       "      <td>Futrelle, Mrs. Jacques Heath (Lily May Peel)</td>\n",
       "      <td>female</td>\n",
       "      <td>35.0</td>\n",
       "      <td>1</td>\n",
       "      <td>0</td>\n",
       "      <td>113803</td>\n",
       "      <td>53.1000</td>\n",
       "      <td>C123</td>\n",
       "      <td>S</td>\n",
       "    </tr>\n",
       "    <tr>\n",
       "      <th>4</th>\n",
       "      <td>5</td>\n",
       "      <td>0</td>\n",
       "      <td>3</td>\n",
       "      <td>Allen, Mr. William Henry</td>\n",
       "      <td>male</td>\n",
       "      <td>35.0</td>\n",
       "      <td>0</td>\n",
       "      <td>0</td>\n",
       "      <td>373450</td>\n",
       "      <td>8.0500</td>\n",
       "      <td>NaN</td>\n",
       "      <td>S</td>\n",
       "    </tr>\n",
       "  </tbody>\n",
       "</table>\n",
       "</div>"
      ],
      "text/plain": [
       "<div>\n",
       "<table border=\"1\" class=\"dataframe\">\n",
       "  <thead>\n",
       "    <tr style=\"text-align: right;\">\n",
       "      <th></th>\n",
       "      <th>PassengerId</th>\n",
       "      <th>Survived</th>\n",
       "      <th>Pclass</th>\n",
       "      <th>Name</th>\n",
       "      <th>Sex</th>\n",
       "      <th>Age</th>\n",
       "      <th>SibSp</th>\n",
       "      <th>Parch</th>\n",
       "      <th>Ticket</th>\n",
       "      <th>Fare</th>\n",
       "      <th>Cabin</th>\n",
       "      <th>Embarked</th>\n",
       "    </tr>\n",
       "  </thead>\n",
       "  <tbody>\n",
       "    <tr>\n",
       "      <th>0</th>\n",
       "      <td>1</td>\n",
       "      <td>0</td>\n",
       "      <td>3</td>\n",
       "      <td>Braund, Mr. Owen Harris</td>\n",
       "      <td>male</td>\n",
       "      <td>22.0</td>\n",
       "      <td>1</td>\n",
       "      <td>0</td>\n",
       "      <td>A/5 21171</td>\n",
       "      <td>7.2500</td>\n",
       "      <td>NaN</td>\n",
       "      <td>S</td>\n",
       "    </tr>\n",
       "    <tr>\n",
       "      <th>1</th>\n",
       "      <td>2</td>\n",
       "      <td>1</td>\n",
       "      <td>1</td>\n",
       "      <td>Cumings, Mrs. John Bradley (Florence Briggs Th...</td>\n",
       "      <td>female</td>\n",
       "      <td>38.0</td>\n",
       "      <td>1</td>\n",
       "      <td>0</td>\n",
       "      <td>PC 17599</td>\n",
       "      <td>71.2833</td>\n",
       "      <td>C85</td>\n",
       "      <td>C</td>\n",
       "    </tr>\n",
       "    <tr>\n",
       "      <th>2</th>\n",
       "      <td>3</td>\n",
       "      <td>1</td>\n",
       "      <td>3</td>\n",
       "      <td>Heikkinen, Miss. Laina</td>\n",
       "      <td>female</td>\n",
       "      <td>26.0</td>\n",
       "      <td>0</td>\n",
       "      <td>0</td>\n",
       "      <td>STON/O2. 3101282</td>\n",
       "      <td>7.9250</td>\n",
       "      <td>NaN</td>\n",
       "      <td>S</td>\n",
       "    </tr>\n",
       "    <tr>\n",
       "      <th>3</th>\n",
       "      <td>4</td>\n",
       "      <td>1</td>\n",
       "      <td>1</td>\n",
       "      <td>Futrelle, Mrs. Jacques Heath (Lily May Peel)</td>\n",
       "      <td>female</td>\n",
       "      <td>35.0</td>\n",
       "      <td>1</td>\n",
       "      <td>0</td>\n",
       "      <td>113803</td>\n",
       "      <td>53.1000</td>\n",
       "      <td>C123</td>\n",
       "      <td>S</td>\n",
       "    </tr>\n",
       "    <tr>\n",
       "      <th>4</th>\n",
       "      <td>5</td>\n",
       "      <td>0</td>\n",
       "      <td>3</td>\n",
       "      <td>Allen, Mr. William Henry</td>\n",
       "      <td>male</td>\n",
       "      <td>35.0</td>\n",
       "      <td>0</td>\n",
       "      <td>0</td>\n",
       "      <td>373450</td>\n",
       "      <td>8.0500</td>\n",
       "      <td>NaN</td>\n",
       "      <td>S</td>\n",
       "    </tr>\n",
       "  </tbody>\n",
       "</table>\n",
       "</div>"
      ]
     },
     "execution_count": 3,
     "metadata": {},
     "output_type": "execute_result"
    }
   ],
   "source": [
    "import pandas as pd\n",
    "import seaborn as sns\n",
    "%matplotlib inline\n",
    "import matplotlib.pyplot as plt\n",
    "%pylab inline\n",
    "from pylab import *\n",
    "titanic_data=pd.read_csv('titanic_data.csv')\n",
    "titanic_data.head()"
   ]
  },
  {
   "cell_type": "markdown",
   "metadata": {},
   "source": [
    "Great!,now let's start with checking if our data (raw data) is fit for analysis.\n"
   ]
  },
  {
   "cell_type": "heading",
   "metadata": {},
   "level": 3,
   "source": [
    "DATA WRANGLING"
   ]
  },
  {
   "cell_type": "code",
   "execution_count": 4,
   "metadata": {},
   "outputs": [
    {
     "name": "stdout",
     "output_type": "stream",
     "text": [
      "Number of missing values in each column are:  PassengerId      0\nSurvived         0\nPclass           0\nName             0\nSex              0\nAge            177\nSibSp            0\nParch            0\nTicket           0\nFare             0\nCabin          687\nEmbarked         2\ndtype: int64\n"
     ]
    }
   ],
   "source": [
    "print 'Number of missing values in each column are: ',titanic_data.isnull().sum()"
   ]
  },
  {
   "cell_type": "markdown",
   "metadata": {},
   "source": [
    "Now let's see if the missing values of embarked field and check if can predict missing values using other field.\n"
   ]
  },
  {
   "cell_type": "code",
   "execution_count": 13,
   "metadata": {},
   "outputs": [
    {
     "name": "stdout",
     "output_type": "stream",
     "text": [
      "     PassengerId  Survived  Pclass                                       Name  \\\n61            62         1       1                        Icard, Miss. Amelie   \n829          830         1       1  Stone, Mrs. George Nelson (Martha Evelyn)   \n\n        Sex   Age  SibSp  Parch  Ticket  Fare Cabin Embarked  \n61   female  38.0      0      0  113572  80.0   B28      NaN  \n829  female  62.0      0      0  113572  80.0   B28      NaN  \n"
     ]
    }
   ],
   "source": [
    "print(titanic_data[titanic_data['Embarked'].isnull()==True])"
   ]
  },
  {
   "cell_type": "markdown",
   "metadata": {},
   "source": [
    "From above data we now know that above 2 person paid 80.0 fare and got into 1st class.\n"
   ]
  },
  {
   "cell_type": "code",
   "execution_count": 5,
   "metadata": {},
   "outputs": [
    {
     "data": {
      "image/png": "[encoded data removed]",
      "text/plain": [
       "<matplotlib.figure.Figure at 0x7c6e090>"
      ]
     },
     "metadata": {},
     "output_type": "display_data"
    }
   ],
   "source": [
    "titanic_data_Embarked=titanic_data[['Embarked','Pclass','Fare']]\n",
    "titanic_data_Embarked=titanic_data_Embarked.dropna()\n",
    "titanic_data_Embarked.boxplot(by=['Embarked','Pclass'])\n",
    "plt.axhline(y=80)\n",
    "plt.show()"
   ]
  },
  {
   "cell_type": "markdown",
   "metadata": {},
   "source": [
    "From the above plot we can see that y-intercept corresponding to 80.0 fare for missing embarked value coincides with meadian fare from station 'C' and for class 1, which is what we want. Setting missing embarked values to 'C'."
   ]
  },
  {
   "cell_type": "code",
   "execution_count": 26,
   "metadata": {},
   "outputs": [],
   "source": [
    "titanic_data['Embarked'].fillna('C');"
   ]
  },
  {
   "cell_type": "markdown",
   "metadata": {},
   "source": [
    "Now we have filled the missing embarked value, going through the data we find that some of the fare value are zero, and to justify that there's no information given. So we replace those values with median of their class and \n",
    "station embarked from.\n"
   ]
  },
  {
   "cell_type": "code",
   "execution_count": 27,
   "metadata": {},
   "outputs": [
    {
     "name": "stdout",
     "output_type": "stream",
     "text": [
      "Median Fares Embarked  Pclass\nC         1         78.2667\n          2         24.0000\n          3          7.8958\nQ         1         90.0000\n          2         12.3500\n          3          7.7500\nS         1         52.0000\n          2         13.5000\n          3          8.0500\nName: Fare, dtype: float64\n"
     ]
    }
   ],
   "source": [
    "fares=titanic_data_Embarked.groupby(['Embarked','Pclass']).Fare.median()\n",
    "print 'Median Fares',fares"
   ]
  },
  {
   "cell_type": "code",
   "execution_count": 7,
   "metadata": {},
   "outputs": [],
   "source": [
    "titanic_fare_0=titanic_data[['Embarked','Pclass','Fare']]\n",
    "\n",
    "for index,aa in titanic_data[titanic_data['Fare']==0].iterrows():\n",
    "   Embark=aa['Embarked']\n",
    "   classP=aa['Pclass']\n",
    "\n",
    "   if Embark=='S':\n",
    "      if classP==3:\n",
    "         aa['Fare']=14.64\n",
    "      elif classP==2:\n",
    "         aa['Fare']=20.32\n",
    "\n",
    "      else:\n",
    "         aa['Fare']=14.64\n",
    "\n",
    "   elif Embark=='Q':\n",
    "      if classP == 1:\n",
    "         aa['Fare'] = 90.36\n",
    "      elif classP == 2:\n",
    "         aa['Fare'] = 12.32\n",
    "      else:\n",
    "         aa['Fare'] = 11.18\n",
    "\n",
    "   else:\n",
    "      if classP == 1:\n",
    "         aa['Fare'] = 104.71\n",
    "      elif classP == 2:\n",
    "         aa['Fare'] = 25.35\n",
    "      else:\n",
    "         aa['Fare'] = 11.21\n",
    "\n",
    "titanic_data[titanic_data['Fare'] == 0].ix[index,'Fare']=aa['Fare']"
   ]
  },
  {
   "cell_type": "markdown",
   "metadata": {},
   "source": [
    "For 'Sex' column mapping 'male'=1 and 'female'=0, for the sake of convinience"
   ]
  },
  {
   "cell_type": "markdown",
   "metadata": {},
   "source": [
    "Now replace the values of 'Sex' column by mapping 'male'=1 and 'female='0' for convinience."
   ]
  },
  {
   "cell_type": "code",
   "execution_count": 8,
   "metadata": {},
   "outputs": [],
   "source": [
    "mapping={'male':1,'female':0}\n",
    "titanic_data['Sex'].replace(mapping,inplace='True')"
   ]
  },
  {
   "cell_type": "heading",
   "metadata": {},
   "level": 3,
   "source": [
    "Let's Begin Analzing our \n"
   ]
  },
  {
   "cell_type": "code",
   "execution_count": 9,
   "metadata": {},
   "outputs": [
    {
     "name": "stdout",
     "output_type": "stream",
     "text": [
      "Total number of passenger survived in the accident 342\n"
     ]
    }
   ],
   "source": [
    "survived=titanic_data['Survived']\n",
    "total_passenger_survived=survived.sum()\n",
    "print 'Total number of passenger survived in the accident',survived.sum()"
   ]
  },
  {
   "cell_type": "markdown",
   "metadata": {},
   "source": [
    "Dividing the passenger in groups of childrens and adult and comparing thier surviability.Now dividing the passengers in group of children and adulat and comparing thier survivability.Let's now divide the passnger in groups of childre and adults and compare their surviability.Let's now divide the passnger in groups of childre and adults and compare their surviability."
   ]
  },
  {
   "cell_type": "markdown",
   "metadata": {},
   "source": [
    ""
   ]
  },
  {
   "cell_type": "code",
   "execution_count": 10,
   "metadata": {},
   "outputs": [
    {
     "data": {
      "image/png": "[encoded data removed]",
      "text/plain": [
       "<matplotlib.figure.Figure at 0x7dda430>"
      ]
     },
     "metadata": {},
     "output_type": "display_data"
    }
   ],
   "source": [
    "adult_passenger=titanic_data[titanic_data['Age']>18.0]\n",
    "children_passenger=titanic_data[titanic_data['Age']<=18]\n",
    "total_children_passnger=len(children_passenger)\n",
    "total_adult_passenger=len(adult_passenger)\n",
    "total_children_survived=len(children_passenger[children_passenger['Survived']==1])\n",
    "total_adult_survived=len(adult_passenger[adult_passenger['Survived']==1])\n",
    "percent_of_children_out_of_survived=(total_children_survived/float(total_passenger_survived))*100\n",
    "percent_of_adult_out_of_survived=(total_adult_survived/float(total_passenger_survived))*100\n",
    "unknown=abs(100.0-(percent_of_adult_out_of_survived+percent_of_children_out_of_survived))\n",
    "\n",
    "\n",
    "#################################PIE CHART################################################\n",
    "figure(1,figsize=(6,6))\n",
    "ax=axes([0.1,0.1,0.8,0.8])\n",
    "fraction=[percent_of_children_out_of_survived,percent_of_adult_out_of_survived,unknown]\n",
    "labels=['Children Survived','Adults Survived','Age not known']\n",
    "\n",
    "pie(fraction,labels=labels,autopct='%1.1f%%', shadow=True, startangle=90)\n",
    "title('Age Survival Comparison',bbox={'facecolor':'0.8','pad':4})\n",
    "show()"
   ]
  },
  {
   "cell_type": "markdown",
   "metadata": {},
   "source": [
    ""
   ]
  },
  {
   "cell_type": "markdown",
   "metadata": {},
   "source": [
    "From the above piechart we can see that percentage of adults survived is more than percentage of children who survived the accident. The above data is not very accurate due to the significant presence of unknow age group. One way to make it more accurate is to identify the children and adults from their name. For eg. the passenger with title 'Master' will be treated as young children.One ambiguous title here is 'Mrs.', someone with this title can be a child or an unmarried adult. We will treat everyone with this title as 'unknown age group' \n",
    "\n",
    "\n",
    "\n"
   ]
  },
  {
   "cell_type": "code",
   "execution_count": 11,
   "metadata": {},
   "outputs": [
    {
     "name": "stdout",
     "output_type": "stream",
     "text": [
      "total missing age passenger who survived 52\nLeft out children 2\nleft out adult 28\nunknown 15.2046783626\n"
     ]
    },
    {
     "data": {
      "image/png": "[encoded data removed]",
      "text/plain": [
       "<matplotlib.figure.Figure at 0x7dc4750>"
      ]
     },
     "metadata": {},
     "output_type": "display_data"
    }
   ],
   "source": [
    "titanic_data['Age'].fillna(0.0,inplace=True)\n",
    "passenger_name=titanic_data[['Name','Age','Survived']]\n",
    "passenger_zero_age=passenger_name[passenger_name['Age']==0.0]\n",
    "passenger_name_zero_age_survived=passenger_zero_age[passenger_zero_age['Survived']==1]['Name']\n",
    "def findinf_keyword_childer(name):\n",
    "   name = name.lower()\n",
    "\n",
    "   if (name.find(', master')>=0):\n",
    "      return 1\n",
    "   else :\n",
    "      return 0\n",
    "\n",
    "\n",
    "def findinf_keyword_adult(name):\n",
    "   name = name.lower()\n",
    "\n",
    "   if (name.find(', mr.') >= 0):\n",
    "      return 1\n",
    "   elif (name.find(', mrs.')>=0):\n",
    "      return 1\n",
    "   else:\n",
    "      return 0\n",
    "\n",
    "\n",
    "print 'total missing age passenger who survived',len(passenger_name_zero_age_survived)\n",
    "\n",
    "passenger_unknown_children=passenger_name_zero_age_survived.apply(findinf_keyword_childer)\n",
    "left_out_children=passenger_unknown_children.sum()\n",
    "\n",
    "print 'Left out children',left_out_children\n",
    "passenger_unknown_adult=passenger_name_zero_age_survived.apply(findinf_keyword_adult)\n",
    "left_out_adult=passenger_unknown_adult.sum()\n",
    "\n",
    "print 'left out adult',left_out_adult\n",
    "print 'unknown',unknown\n",
    "# Update pie chart\n",
    "percent_of_children_out_of_survived=((total_children_survived+left_out_children)/float(total_passenger_survived))*100\n",
    "percent_of_adult_out_of_survived=((total_adult_survived+left_out_adult)/float(total_passenger_survived))*100\n",
    "unknown=abs(100.0-(percent_of_adult_out_of_survived+percent_of_children_out_of_survived))\n",
    "\n",
    "figure(1,figsize=(6,6))\n",
    "ax=axes([0.1,0.1,0.8,0.8])\n",
    "fraction=[percent_of_children_out_of_survived,percent_of_adult_out_of_survived,unknown]\n",
    "labels=['Children Survived','Adults Survived','Age not known']\n",
    "\n",
    "pie(fraction,labels=labels,autopct='%1.1f%%', shadow=True, startangle=90)\n",
    "title('Age Survival Comparison',bbox={'facecolor':'0.8','pad':4})\n",
    "show()"
   ]
  },
  {
   "cell_type": "markdown",
   "metadata": {},
   "source": [
    "Ahh! Now the data looks more accurate with decrease in percentage of \"Age not know\" group.\n"
   ]
  },
  {
   "cell_type": "markdown",
   "metadata": {},
   "source": [
    "Let's now see what else can we find out from the data. One thing that comes to mind is\n",
    "how does survivability varies for females and males in different class i.e. we want to find out whether paying more (corresponding to different class) made you likely to survive more. "
   ]
  },
  {
   "cell_type": "code",
   "execution_count": 18,
   "metadata": {},
   "outputs": [
    {
     "name": "stdout",
     "output_type": "stream",
     "text": [
      "Class wise male survival :\nSurvived  Pclass\n0         1          77\n          2          91\n          3         300\n1         1          45\n          2          17\n          3          47\nName: Sex, dtype: int64\nClass wise female survival :\nSurvived  Pclass\n0         1          3\n          2          6\n          3         72\n1         1         91\n          2         70\n          3         72\nName: Sex, dtype: int64\n"
     ]
    }
   ],
   "source": [
    "survived_Sex_pclass=titanic_data[['Survived','Sex','Pclass']]\n",
    "passenger_Sex_survived=titanic_data[titanic_data['Survived']==1]\n",
    "male_passenger_survived=(survived_Sex_pclass[survived_Sex_pclass['Sex']==1])\n",
    "female_passenger_survived=(survived_Sex_pclass[survived_Sex_pclass['Sex']==0])\n",
    "\n",
    "\n",
    "class_wise_male_survived=male_passenger_survived.groupby(['Survived','Pclass']).Sex.count()\n",
    "class_wise_female_survived=female_passenger_survived.groupby(['Survived','Pclass']).Sex.count()\n",
    "\n",
    "print 'Class wise male survival :'\n",
    "print class_wise_male_survived\n",
    "print 'Class wise female survival :'\n",
    "print class_wise_female_survived"
   ]
  },
  {
   "cell_type": "markdown",
   "metadata": {},
   "source": [
    "Now let's plot this data."
   ]
  },
  {
   "cell_type": "code",
   "execution_count": 22,
   "metadata": {},
   "outputs": [
    {
     "data": {
      "image/png": "[encoded data removed]",
      "text/plain": [
       "<matplotlib.figure.Figure at 0x9331650>"
      ]
     },
     "metadata": {},
     "output_type": "display_data"
    }
   ],
   "source": [
    "frac_male_1=36.8\n",
    "frac_male_2=15.7\n",
    "frac_male_3=13.5\n",
    "frac_female_1=96.8\n",
    "frac_femlae_2=92.1\n",
    "frac_female_3=50\n",
    "frac=np.array([frac_female_1,frac_femlae_2,frac_female_3,frac_male_1,frac_male_2,frac_male_3])\n",
    "for i in range(6):\n",
    "   plt.subplot(2,3,i+1)\n",
    "   explode=(0.0,0.1)\n",
    "   fraction=[frac[i],(100-frac[i])]\n",
    "   if i<=2:\n",
    "      title('Female in class '+str(i+1),size=8)\n",
    "   else:\n",
    "      title('Male in Class '+str(i-2),size=8)\n",
    "   labels=['Survived','Did not Survive']\n",
    "\n",
    "   pie(fraction,labels=labels,autopct='%1.1f%%', shadow=True, startangle=90,explode=explode)\n",
    "plt.suptitle('Gender Survival Comparison',bbox={'facecolor':'0.8','pad':4},size=10)\n",
    "plt.legend(labels, loc='center left', shadow=True, bbox_to_anchor=(1, 0.5))\n",
    "show()"
   ]
  },
  {
   "cell_type": "markdown",
   "metadata": {},
   "source": [
    "Yes, the answer is yes from the pie charts we can infer two things,\n",
    "1) The percentage of people who paid more were more likely to survive in the accident.\n",
    "2) We can easily infer that female passenger were rescued first then male passenger."
   ]
  },
  {
   "cell_type": "markdown",
   "metadata": {},
   "source": [
    "Now, with the given list of passenger, group them into families with information of thier surname and Parch and SibSp. And check if the family size had something to do with surviability."
   ]
  },
  {
   "cell_type": "code",
   "execution_count": 25,
   "metadata": {},
   "outputs": [
    {
     "data": {
      "image/png": "[encoded data removed]",
      "text/plain": [
       "<matplotlib.figure.Figure at 0x9879830>"
      ]
     },
     "metadata": {},
     "output_type": "display_data"
    }
   ],
   "source": [
    "family_class_survived=pd.DataFrame()\n",
    "for index,b in titanic_data.iterrows():\n",
    "   b['Name']=b['Name'].lower()\n",
    "   [surname,name]=b['Name'].split(',')\n",
    "   Sibsp=b['SibSp']\n",
    "   Parch=b['Parch']\n",
    "   family_members=Sibsp+Parch+1\n",
    "   titanic_data.ix[index,'Family']=surname\n",
    "   titanic_data.ix[index,'No_of_members']=family_members\n",
    "\n",
    "titanic_data1=titanic_data[['Pclass','Survived','No_of_members']]\n",
    "family_size_name_survived=titanic_data1.groupby(['No_of_members','Survived']).count()\n",
    "family_size_name_survived.unstack().plot.bar()\n",
    "plt.show()"
   ]
  },
  {
   "cell_type": "markdown",
   "metadata": {},
   "source": [
    "We can see that most of the singles died in the accident. The maximum chances of surviving was more if the passenger were in a group of 2,3 or 4. Above that the chances were almost negligible."
   ]
  },
  {
   "cell_type": "heading",
   "metadata": {},
   "level": 3,
   "source": [
    "Conclusion:\n"
   ]
  },
  {
   "cell_type": "markdown",
   "metadata": {},
   "source": [
    "The above analysis shows that adult passengers were more likely to survive then children. May be becuase of children's debility to save themselves.While, majority of the womens survived the accident. For that one of the reason may be concept of \"women's first\". Ofcourse other reasons are possible but to me this seems the most palusible reason. Also, those who paid more for the ticket (for different classes) survived more,so paying more was after all worth it. This can be due the fact that higher class passenger were rescued first then lower class. Finally, smaller family sizes had somewhat better chancesof surviving then bigger family sizes. Furthermore, family size of 2,3 and 4 had the maximum chances of survival."
   ]
  }
 ],
 "metadata": {
  "kernelspec": {
   "display_name": "Python 2",
   "language": "python",
   "name": "python2"
  },
  "language_info": {
   "codemirror_mode": {
    "name": "ipython",
    "version": 2.0
   },
   "file_extension": ".py",
   "mimetype": "text/x-python",
   "name": "python",
   "nbconvert_exporter": "python",
   "pygments_lexer": "ipython2",
   "version": "2.7.6"
  }
 },
 "nbformat": 4,
 "nbformat_minor": 0
}